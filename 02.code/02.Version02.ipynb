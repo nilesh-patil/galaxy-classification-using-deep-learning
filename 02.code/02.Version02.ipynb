{
 "cells": [
  {
   "cell_type": "code",
   "execution_count": 1,
   "metadata": {},
   "outputs": [
    {
     "name": "stdout",
     "output_type": "stream",
     "text": [
      "Sat May 27 00:26:20 2017       \n",
      "+-----------------------------------------------------------------------------+\n",
      "| NVIDIA-SMI 367.48                 Driver Version: 375.39                    |\n",
      "|-------------------------------+----------------------+----------------------+\n",
      "| GPU  Name        Persistence-M| Bus-Id        Disp.A | Volatile Uncorr. ECC |\n",
      "| Fan  Temp  Perf  Pwr:Usage/Cap|         Memory-Usage | GPU-Util  Compute M. |\n",
      "|===============================+======================+======================|\n",
      "|   0  Tesla K80           Off  | 0000:08:00.0     Off |                    0 |\n",
      "| N/A   48C    P0   115W / 149W |  10942MiB / 11439MiB |     78%      Default |\n",
      "+-------------------------------+----------------------+----------------------+\n",
      "|   1  Tesla K80           Off  | 0000:09:00.0     Off |                    0 |\n",
      "| N/A   56C    P0    73W / 149W |  10871MiB / 11439MiB |      0%      Default |\n",
      "+-------------------------------+----------------------+----------------------+\n",
      "|   2  Tesla K80           Off  | 0000:88:00.0     Off |                    0 |\n",
      "| N/A   30C    P0    57W / 149W |      0MiB / 11439MiB |      0%      Default |\n",
      "+-------------------------------+----------------------+----------------------+\n",
      "|   3  Tesla K80           Off  | 0000:89:00.0     Off |                    0 |\n",
      "| N/A   36C    P0    79W / 149W |      0MiB / 11439MiB |     63%      Default |\n",
      "+-------------------------------+----------------------+----------------------+\n",
      "                                                                               \n",
      "+-----------------------------------------------------------------------------+\n",
      "| Processes:                                                       GPU Memory |\n",
      "|  GPU       PID  Type  Process name                               Usage      |\n",
      "|=============================================================================|\n",
      "|    0     22813    C   python                                       10938MiB |\n",
      "|    1     22813    C   python                                       10867MiB |\n",
      "+-----------------------------------------------------------------------------+\n"
     ]
    }
   ],
   "source": [
    "!nvidia-smi"
   ]
  },
  {
   "cell_type": "markdown",
   "metadata": {},
   "source": [
    "##### 00. Load Packages"
   ]
  },
  {
   "cell_type": "code",
   "execution_count": 2,
   "metadata": {
    "collapsed": true
   },
   "outputs": [],
   "source": [
    "%matplotlib inline"
   ]
  },
  {
   "cell_type": "code",
   "execution_count": 3,
   "metadata": {},
   "outputs": [
    {
     "name": "stderr",
     "output_type": "stream",
     "text": [
      "Using TensorFlow backend.\n"
     ]
    }
   ],
   "source": [
    "import keras\n",
    "import tensorflow as tf\n",
    "import numpy as np\n",
    "import seaborn as sns\n",
    "import pandas as pd\n",
    "import glob as glob\n",
    "import seaborn as sns\n",
    "import matplotlib.pyplot as plt\n",
    "\n",
    "import PIL.Image as im"
   ]
  },
  {
   "cell_type": "code",
   "execution_count": 4,
   "metadata": {
    "collapsed": true
   },
   "outputs": [],
   "source": [
    "from keras import backend as K\n",
    "from keras.models import Sequential, load_model\n",
    "from keras.layers import Dense, Dropout, Activation\n",
    "from keras.layers import Conv2D, MaxPooling2D,Convolution2D\n",
    "from keras.layers.core import Flatten, Reshape\n",
    "from keras.losses import categorical_crossentropy\n",
    "from keras import metrics"
   ]
  },
  {
   "cell_type": "code",
   "execution_count": 5,
   "metadata": {
    "collapsed": true
   },
   "outputs": [],
   "source": [
    "files_train = glob.glob('../01.data/extracted/images_training_rev1/*.jpg')\n",
    "files_test = glob.glob('../01.data/extracted/images_test_rev1/*.jpg')"
   ]
  },
  {
   "cell_type": "markdown",
   "metadata": {},
   "source": [
    "##### 00. Define functions"
   ]
  },
  {
   "cell_type": "code",
   "execution_count": 31,
   "metadata": {
    "collapsed": true
   },
   "outputs": [],
   "source": [
    "def readImage(address):\n",
    "    x = im.open(address)\n",
    "    x = np.array(x)\n",
    "    return(x)"
   ]
  },
  {
   "cell_type": "code",
   "execution_count": 32,
   "metadata": {
    "collapsed": true
   },
   "outputs": [],
   "source": [
    "def predict_score(file_path,model_name):\n",
    "    \n",
    "    scores = {}\n",
    "    paths = file_path\n",
    "    \n",
    "\n",
    "    for path in paths:\n",
    "\n",
    "        path_id = path.split('/')[-1].split('.')[0]\n",
    "        path_data = np.array([readImage(path)])\n",
    "        path_score = model_name.predict_proba(path_data,verbose=0)\n",
    "        \n",
    "        scores[path_id] = path_score[0]\n",
    "        \n",
    "        del path_id\n",
    "        del path_data\n",
    "        del path_score\n",
    "        \n",
    "    return(scores)"
   ]
  },
  {
   "cell_type": "code",
   "execution_count": 33,
   "metadata": {
    "scrolled": false
   },
   "outputs": [
    {
     "data": {
      "text/plain": [
       "{'test': 79975, 'train': 61578}"
      ]
     },
     "execution_count": 33,
     "metadata": {},
     "output_type": "execute_result"
    }
   ],
   "source": [
    "{\n",
    "    'train':len(files_train),\n",
    "    'test':len(files_test)\n",
    "}"
   ]
  },
  {
   "cell_type": "code",
   "execution_count": 34,
   "metadata": {
    "collapsed": true
   },
   "outputs": [],
   "source": [
    "n = 61578\n",
    "samples_train = np.arange(0,n)\n",
    "np.random.shuffle(samples_train)\n",
    "\n",
    "y_path = '../01.data/extracted/training_solutions_rev1.csv'"
   ]
  },
  {
   "cell_type": "code",
   "execution_count": null,
   "metadata": {},
   "outputs": [],
   "source": [
    "train = np.array([readImage(files_train[x_train])\n",
    "                  for x_train in samples_train\n",
    "                 ])\n",
    "\n",
    "train_y = pd.read_csv(y_path,index_col='GalaxyID')\n",
    "train_y = np.array([train_y.ix[\n",
    "            np.int64(files_train[galaxy_id].split('/')[-1].split('.')[0]),:]\n",
    "                    for galaxy_id in samples_train])"
   ]
  },
  {
   "cell_type": "code",
   "execution_count": null,
   "metadata": {
    "collapsed": true
   },
   "outputs": [],
   "source": [
    "x_train = train\n",
    "print('x_train shape:', x_train.shape)\n",
    "\n",
    "del train\n",
    "\n",
    "y_train = train_y\n",
    "print('y_train shape:', y_train.shape)\n",
    "\n",
    "del train_y"
   ]
  },
  {
   "cell_type": "code",
   "execution_count": null,
   "metadata": {
    "collapsed": true
   },
   "outputs": [],
   "source": [
    "shape_kernel = (2,2)\n",
    "shape_pool = (2,2)\n",
    "\n",
    "conv_activation = 'relu'\n",
    "dense_activation = 'relu'\n",
    "\n",
    "\n",
    "num_classes = len(y_train[0])\n",
    "epochs = 1500\n",
    "\n",
    "img_rows, img_cols = 424, 424\n",
    "img_channels = 3"
   ]
  },
  {
   "cell_type": "code",
   "execution_count": 36,
   "metadata": {
    "collapsed": true
   },
   "outputs": [],
   "source": [
    "model = Sequential()\n",
    "\n",
    "model.add(Conv2D(filters=35,\n",
    "                 kernel_size=shape_kernel,\n",
    "                 input_shape=(img_rows, img_cols, img_channels),\n",
    "                 data_format='channels_last',\n",
    "                 name='Conv-Input',\n",
    "                 activation = conv_activation\n",
    "                ))\n",
    "\n",
    "model.add(Conv2D(filters=30,\n",
    "                 kernel_size=shape_kernel,\n",
    "                 name='Conv-02',\n",
    "                 activation = conv_activation\n",
    "                ))\n",
    "model.add(MaxPooling2D(pool_size=shape_pool\n",
    "                      ))\n",
    "\n",
    "model.add(Conv2D(filters=25,\n",
    "                 kernel_size=shape_kernel,\n",
    "                 name='Conv-03',\n",
    "                 activation = conv_activation\n",
    "                ))\n",
    "model.add(MaxPooling2D(pool_size=shape_pool\n",
    "                      ))\n",
    "\n",
    "\n",
    "model.add(Conv2D(filters=20,\n",
    "                 kernel_size=shape_kernel,\n",
    "                 name='Conv-04',\n",
    "                 activation = conv_activation\n",
    "                ))\n",
    "model.add(MaxPooling2D(pool_size=shape_pool\n",
    "                      ))\n",
    "\n",
    "\n",
    "model.add(Conv2D(filters=15,\n",
    "                 kernel_size=shape_kernel,\n",
    "                 name='Conv-05',\n",
    "                 activation = conv_activation\n",
    "                ))\n",
    "model.add(MaxPooling2D(pool_size=shape_pool\n",
    "                      ))\n",
    "\n",
    "\n",
    "model.add(Conv2D(filters=10,\n",
    "                 padding='same',\n",
    "                 kernel_size=shape_kernel,\n",
    "                 name='Conv-06',\n",
    "                 activation = conv_activation\n",
    "                ))\n",
    "\n",
    "\n",
    "model.add(Conv2D(filters=15,\n",
    "                 padding='same',\n",
    "                 kernel_size=shape_kernel,\n",
    "                 name='Conv-07',\n",
    "                 activation = conv_activation\n",
    "                ))\n",
    "\n",
    "\n",
    "model.add(Conv2D(filters=2,\n",
    "                 padding='same',\n",
    "                 kernel_size=shape_kernel,\n",
    "                 name='Conv-08',\n",
    "                 activation = conv_activation\n",
    "                ))\n",
    "model.add(MaxPooling2D(pool_size=shape_pool\n",
    "                      ))\n",
    "\n",
    "model.add(Flatten())\n",
    "\n",
    "model.add(Dense(\n",
    "        units=150,\n",
    "        name='Dense-02',\n",
    "        activation = dense_activation\n",
    "    ))\n",
    "\n",
    "\n",
    "model.add(Dense(\n",
    "        units=num_classes,\n",
    "        activation='sigmoid',\n",
    "        name='Dense-Output'\n",
    "    ))"
   ]
  },
  {
   "cell_type": "code",
   "execution_count": 37,
   "metadata": {},
   "outputs": [
    {
     "name": "stdout",
     "output_type": "stream",
     "text": [
      "_________________________________________________________________\n",
      "Layer (type)                 Output Shape              Param #   \n",
      "=================================================================\n",
      "Conv-Input (Conv2D)          (None, 423, 423, 35)      455       \n",
      "_________________________________________________________________\n",
      "Conv-02 (Conv2D)             (None, 422, 422, 30)      4230      \n",
      "_________________________________________________________________\n",
      "max_pooling2d_1 (MaxPooling2 (None, 211, 211, 30)      0         \n",
      "_________________________________________________________________\n",
      "Conv-03 (Conv2D)             (None, 210, 210, 25)      3025      \n",
      "_________________________________________________________________\n",
      "max_pooling2d_2 (MaxPooling2 (None, 105, 105, 25)      0         \n",
      "_________________________________________________________________\n",
      "Conv-04 (Conv2D)             (None, 104, 104, 20)      2020      \n",
      "_________________________________________________________________\n",
      "max_pooling2d_3 (MaxPooling2 (None, 52, 52, 20)        0         \n",
      "_________________________________________________________________\n",
      "Conv-05 (Conv2D)             (None, 51, 51, 15)        1215      \n",
      "_________________________________________________________________\n",
      "max_pooling2d_4 (MaxPooling2 (None, 25, 25, 15)        0         \n",
      "_________________________________________________________________\n",
      "Conv-06 (Conv2D)             (None, 25, 25, 10)        610       \n",
      "_________________________________________________________________\n",
      "Conv-07 (Conv2D)             (None, 25, 25, 15)        615       \n",
      "_________________________________________________________________\n",
      "Conv-08 (Conv2D)             (None, 25, 25, 2)         122       \n",
      "_________________________________________________________________\n",
      "max_pooling2d_5 (MaxPooling2 (None, 12, 12, 2)         0         \n",
      "_________________________________________________________________\n",
      "flatten_1 (Flatten)          (None, 288)               0         \n",
      "_________________________________________________________________\n",
      "Dense-02 (Dense)             (None, 150)               43350     \n",
      "_________________________________________________________________\n",
      "Dense-Output (Dense)         (None, 37)                5587      \n",
      "=================================================================\n",
      "Total params: 61,229\n",
      "Trainable params: 61,229\n",
      "Non-trainable params: 0\n",
      "_________________________________________________________________\n"
     ]
    }
   ],
   "source": [
    "model.summary()"
   ]
  },
  {
   "cell_type": "code",
   "execution_count": 38,
   "metadata": {
    "collapsed": true
   },
   "outputs": [],
   "source": [
    "from keras.callbacks import ModelCheckpoint\n",
    "from keras.callbacks import TensorBoard\n",
    "\n",
    "tb = TensorBoard(\n",
    "        log_dir='../tensorboard/model_v4/',\n",
    "        write_graph=True,\n",
    "        write_images=True\n",
    "    )\n",
    "\n",
    "mc = ModelCheckpoint(filepath='../05.model/model_v4_sub127.h5',\n",
    "                     save_best_only=True)"
   ]
  },
  {
   "cell_type": "code",
   "execution_count": null,
   "metadata": {
    "collapsed": true
   },
   "outputs": [],
   "source": [
    "model.compile(loss = 'categorical_crossentropy',\n",
    "              optimizer = keras.optimizers.Adadelta(lr=0.1),\n",
    "              metrics = [metrics.cosine])\n",
    "\n",
    "model.fit(x = x_train-127,\n",
    "          validation_split=0.1,\n",
    "          y = y_train,\n",
    "          batch_size=10,\n",
    "          epochs=epochs,\n",
    "          callbacks = [tb,mc],\n",
    "          verbose=0)"
   ]
  },
  {
   "cell_type": "markdown",
   "metadata": {},
   "source": [
    "#### Test data"
   ]
  },
  {
   "cell_type": "code",
   "execution_count": 9,
   "metadata": {
    "collapsed": true
   },
   "outputs": [],
   "source": [
    "model = load_model('../05.model/model_v4_sub127.h5')"
   ]
  },
  {
   "cell_type": "code",
   "execution_count": 10,
   "metadata": {
    "collapsed": true
   },
   "outputs": [],
   "source": [
    "out = predict_score(file_path=files_test,\n",
    "                    model_name=model)"
   ]
  },
  {
   "cell_type": "code",
   "execution_count": 11,
   "metadata": {
    "collapsed": true
   },
   "outputs": [],
   "source": [
    "columns = pd.read_csv(y_path,\n",
    "                      index_col='GalaxyID',\n",
    "                      nrows=0)\n",
    "\n",
    "test_results = pd.DataFrame.from_dict(data = out,\n",
    "                                      orient='index')\n",
    "test_results.index.name = 'GalaxyID'\n",
    "test_results.columns = columns.columns"
   ]
  },
  {
   "cell_type": "code",
   "execution_count": 12,
   "metadata": {
    "collapsed": true
   },
   "outputs": [],
   "source": [
    "test_results.to_csv('../04.results/submission07.csv',\n",
    "                    index_label='GalaxyID')"
   ]
  }
 ],
 "metadata": {
  "kernelspec": {
   "display_name": "Python2 (tensorflow)",
   "language": "python",
   "name": "tensorflow"
  },
  "language_info": {
   "codemirror_mode": {
    "name": "ipython",
    "version": 2
   },
   "file_extension": ".py",
   "mimetype": "text/x-python",
   "name": "python",
   "nbconvert_exporter": "python",
   "pygments_lexer": "ipython2",
   "version": "2.7.12"
  }
 },
 "nbformat": 4,
 "nbformat_minor": 2
}
