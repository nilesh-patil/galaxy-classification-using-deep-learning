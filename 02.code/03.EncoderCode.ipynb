{
 "cells": [
  {
   "cell_type": "code",
   "execution_count": 1,
   "metadata": {
    "collapsed": true,
    "run_control": {
     "frozen": false,
     "read_only": false
    }
   },
   "outputs": [],
   "source": [
    "run = 'autoencoder_01'"
   ]
  },
  {
   "cell_type": "code",
   "execution_count": 2,
   "metadata": {
    "run_control": {
     "frozen": false,
     "read_only": false
    }
   },
   "outputs": [
    {
     "data": {
      "text/plain": [
       "[[u'/gpu:0', u'/gpu:1'], '/gpu:1']"
      ]
     },
     "execution_count": 2,
     "metadata": {},
     "output_type": "execute_result"
    }
   ],
   "source": [
    "from tensorflow.python.client import device_lib\n",
    "\n",
    "def get_available_gpus():\n",
    "    local_device_protos = device_lib.list_local_devices()\n",
    "    return [x.name for x in local_device_protos if x.device_type == 'GPU']\n",
    "\n",
    "gpu_list = get_available_gpus()\n",
    "\n",
    "gpu = str(gpu_list[-1])\n",
    "[gpu_list, gpu]"
   ]
  },
  {
   "cell_type": "markdown",
   "metadata": {
    "run_control": {
     "frozen": false,
     "read_only": false
    }
   },
   "source": [
    "##### 00. Load Packages"
   ]
  },
  {
   "cell_type": "code",
   "execution_count": 3,
   "metadata": {
    "run_control": {
     "frozen": false,
     "read_only": false
    }
   },
   "outputs": [
    {
     "name": "stdout",
     "output_type": "stream",
     "text": [
      "Populating the interactive namespace from numpy and matplotlib\n"
     ]
    }
   ],
   "source": [
    "%pylab inline\n",
    "\n",
    "\n",
    "import seaborn as sns\n",
    "import pandas as pd"
   ]
  },
  {
   "cell_type": "code",
   "execution_count": 4,
   "metadata": {
    "run_control": {
     "frozen": false,
     "read_only": false
    }
   },
   "outputs": [
    {
     "name": "stderr",
     "output_type": "stream",
     "text": [
      "Using TensorFlow backend.\n"
     ]
    }
   ],
   "source": [
    "import tensorflow as tf\n",
    "import keras\n",
    "\n",
    "import glob as glob\n",
    "import cv2 as cv2\n",
    "from tqdm import tqdm"
   ]
  },
  {
   "cell_type": "code",
   "execution_count": 5,
   "metadata": {
    "collapsed": true,
    "run_control": {
     "frozen": false,
     "read_only": false
    }
   },
   "outputs": [],
   "source": [
    "from keras import backend as K\n",
    "from keras.models import Input, Sequential, load_model, Model\n",
    "from keras.layers import Dropout, Activation\n",
    "from keras.layers import Lambda, Conv2D, Dense, MaxPooling2D,UpSampling2D\n",
    "\n",
    "from keras.layers.normalization import BatchNormalization"
   ]
  },
  {
   "cell_type": "code",
   "execution_count": 6,
   "metadata": {
    "collapsed": true,
    "run_control": {
     "frozen": false,
     "read_only": false
    }
   },
   "outputs": [],
   "source": [
    "train_files = glob.glob('../01.data/extracted/images_training_rev1/*.jpg')\n",
    "test_files = glob.glob('../01.data/extracted/images_test_rev1/*.jpg')"
   ]
  },
  {
   "cell_type": "markdown",
   "metadata": {
    "run_control": {
     "frozen": false,
     "read_only": false
    }
   },
   "source": [
    "##### 00. Define functions"
   ]
  },
  {
   "cell_type": "code",
   "execution_count": 7,
   "metadata": {
    "collapsed": true,
    "run_control": {
     "frozen": false,
     "read_only": false
    }
   },
   "outputs": [],
   "source": [
    "def get_image(image_path,size):\n",
    "    \n",
    "    x = cv2.imread(image_path)\n",
    "    x = cv2.resize(x,size,cv2.INTER_NEAREST)\n",
    "    return(x)\n",
    "\n",
    "def get_labels(image_path):\n",
    "    \n",
    "    image_id = image_path.split('/')[-1]\n",
    "    image_number = image_id.split('.')[0]\n",
    "    values = train_output.loc[np.int(image_number)].values\n",
    "    \n",
    "    return(values)\n",
    "\n",
    "def input_data(image_path):\n",
    "    \n",
    "    x = np.array([get_image(image_path)])\n",
    "    y = np.array([get_labels(image_path)])\n",
    "    \n",
    "    return(x,y)"
   ]
  },
  {
   "cell_type": "code",
   "execution_count": 8,
   "metadata": {
    "run_control": {
     "frozen": false,
     "read_only": false
    },
    "scrolled": false
   },
   "outputs": [
    {
     "data": {
      "text/plain": [
       "{'test': 79975, 'train': 61578}"
      ]
     },
     "execution_count": 8,
     "metadata": {},
     "output_type": "execute_result"
    }
   ],
   "source": [
    "{\n",
    "    'train':len(train_files),\n",
    "    'test':len(test_files)\n",
    "}"
   ]
  },
  {
   "cell_type": "code",
   "execution_count": 9,
   "metadata": {
    "collapsed": true,
    "run_control": {
     "frozen": false,
     "read_only": false
    }
   },
   "outputs": [],
   "source": [
    "y_path = '../01.data/extracted/training_solutions_rev1.csv'\n",
    "train_output = pd.read_csv(y_path,index_col='GalaxyID')\n",
    "train_output.sort_index(inplace=True)"
   ]
  },
  {
   "cell_type": "code",
   "execution_count": 10,
   "metadata": {
    "collapsed": true,
    "run_control": {
     "frozen": false,
     "read_only": false
    }
   },
   "outputs": [],
   "source": [
    "num_classes = 37\n",
    "epochs = 1500\n",
    "\n",
    "\n",
    "input_size = (256,256)\n",
    "img_rows, img_cols = input_size\n",
    "img_channels = 3\n",
    "observations,output_classes = train_output.shape"
   ]
  },
  {
   "cell_type": "code",
   "execution_count": 11,
   "metadata": {
    "run_control": {
     "frozen": false,
     "read_only": false
    }
   },
   "outputs": [
    {
     "name": "stderr",
     "output_type": "stream",
     "text": [
      "100%|██████████| 61578/61578 [11:40<00:00, 87.87it/s]\n"
     ]
    }
   ],
   "source": [
    "from gc import collect\n",
    "\n",
    "n = len(train_files)\n",
    "\n",
    "train_x = np.zeros((n,img_rows,img_cols,img_channels),dtype=np.uint8)\n",
    "train_y = np.zeros((n,num_classes),dtype=np.float64)\n",
    "\n",
    "for current_id in tqdm(range(n),miniters=1000):\n",
    "    \n",
    "    if current_id%1000==0:\n",
    "        collect()\n",
    "        \n",
    "    current_path = train_files[current_id]\n",
    "    \n",
    "    current_image  = np.array(get_image(current_path,input_size))\n",
    "    current_labels = get_labels(current_path)\n",
    "    \n",
    "    train_x[current_id] = current_image\n",
    "    train_y[current_id] = current_labels\n",
    "    \n",
    "    \n",
    "train_y_expanded = np.expand_dims(np.expand_dims(train_y,1),1)"
   ]
  },
  {
   "cell_type": "code",
   "execution_count": 21,
   "metadata": {
    "run_control": {
     "frozen": false,
     "read_only": false
    }
   },
   "outputs": [
    {
     "name": "stdout",
     "output_type": "stream",
     "text": [
      "('train_x shape:', (61578, 256, 256, 3))\n",
      "('train_y shape:', (61578, 37))\n",
      "('train_y shape:', (61578, 1, 1, 37))\n"
     ]
    }
   ],
   "source": [
    "print('train_x shape:', train_x.shape)\n",
    "print('train_y shape:', train_y.shape)\n",
    "print('train_y shape:', train_y_expanded.shape)"
   ]
  },
  {
   "cell_type": "code",
   "execution_count": 23,
   "metadata": {
    "run_control": {
     "frozen": false,
     "read_only": false
    }
   },
   "outputs": [
    {
     "data": {
      "text/plain": [
       "0"
      ]
     },
     "execution_count": 23,
     "metadata": {},
     "output_type": "execute_result"
    }
   ],
   "source": [
    "from gc import collect\n",
    "collect()"
   ]
  },
  {
   "cell_type": "markdown",
   "metadata": {
    "run_control": {
     "frozen": false,
     "read_only": false
    }
   },
   "source": [
    "### Define model"
   ]
  },
  {
   "cell_type": "markdown",
   "metadata": {
    "run_control": {
     "frozen": false,
     "read_only": false
    }
   },
   "source": [
    "##### Encoder"
   ]
  },
  {
   "cell_type": "code",
   "execution_count": 199,
   "metadata": {
    "collapsed": true,
    "run_control": {
     "frozen": false,
     "read_only": false
    }
   },
   "outputs": [],
   "source": [
    "K.clear_session()\n",
    "\n",
    "input_img = Input((img_rows,img_cols,img_channels))\n",
    "\n",
    "# Encoder defination\n",
    "\n",
    "\n",
    "x = BatchNormalization()(input_img)\n",
    "x = Conv2D(10, (4, 4), padding='same')(x)\n",
    "x = MaxPooling2D((2,2))(x)\n",
    "x = Dropout(0.2)(x)\n",
    "# 128\n",
    "\n",
    "x = BatchNormalization()(x)\n",
    "x = Conv2D(20, (2, 2), padding='same')(x)\n",
    "x = MaxPooling2D((2, 2))(x)\n",
    "x = Dropout(0.2)(x)\n",
    "# 64\n",
    "\n",
    "\n",
    "x = BatchNormalization()(x)\n",
    "x = Conv2D(40, (2, 2), padding='same')(x)\n",
    "x = MaxPooling2D((2, 2))(x)\n",
    "x = Dropout(0.2)(x)\n",
    "# 32\n",
    "\n",
    "\n",
    "x = BatchNormalization()(x)\n",
    "x = Conv2D(80, (2, 2), padding='same')(x)\n",
    "x = MaxPooling2D((2, 2))(x)\n",
    "x = Dropout(0.2)(x)\n",
    "# 16\n",
    "\n",
    "\n",
    "x = BatchNormalization()(x)\n",
    "x = Conv2D(160, (2, 2), padding='same')(x)\n",
    "x = MaxPooling2D((2, 2))(x)\n",
    "x = Dropout(0.2)(x)\n",
    "# 8\n",
    "\n",
    "\n",
    "x = BatchNormalization()(x)\n",
    "x = Conv2D(320, (2, 2), padding='same')(x)\n",
    "x = MaxPooling2D((2, 2))(x)\n",
    "x = Dropout(0.2)(x)\n",
    "# 4\n",
    "\n",
    "\n",
    "x = BatchNormalization()(x)\n",
    "x = Conv2D(640, (2, 2), padding='same')(x)\n",
    "x = MaxPooling2D((2, 2))(x)\n",
    "x = Dropout(0.2)(x)\n",
    "# 2\n",
    "\n",
    "\n",
    "x = BatchNormalization()(x)\n",
    "x = Conv2D(1280, (2, 2), padding='same')(x)\n",
    "x = MaxPooling2D((2, 2))(x)\n",
    "x = Dropout(0.2)(x)\n",
    "# 1\n",
    "\n",
    "\n",
    "x = Dense(1500)(x)\n",
    "encoded = Dropout(0.2,name='Encoder-dense')(x)"
   ]
  },
  {
   "cell_type": "markdown",
   "metadata": {
    "run_control": {
     "frozen": false,
     "read_only": false
    }
   },
   "source": [
    "##### Decoder"
   ]
  },
  {
   "cell_type": "code",
   "execution_count": 200,
   "metadata": {
    "collapsed": true,
    "run_control": {
     "frozen": false,
     "read_only": false
    }
   },
   "outputs": [],
   "source": [
    "x = Dense(1500,name='Decoder-dense')(encoded)\n",
    "x = Dropout(0.2)(x)\n",
    "\n",
    "\n",
    "\n",
    "x = UpSampling2D((2, 2))(x)\n",
    "x = BatchNormalization()(x)\n",
    "x = Conv2D(1280, (2, 2), padding='same')(x)\n",
    "x = Dropout(0.2)(x)\n",
    "\n",
    "\n",
    "\n",
    "x = UpSampling2D((2, 2))(x)\n",
    "x = BatchNormalization()(x)\n",
    "x = Conv2D(640, (2, 2), padding='same')(x)\n",
    "x = Dropout(0.2)(x)\n",
    "\n",
    "\n",
    "\n",
    "x = UpSampling2D((2, 2))(x)\n",
    "x = BatchNormalization()(x)\n",
    "x = Conv2D(320, (2, 2), padding='same')(x)\n",
    "x = Dropout(0.2)(x)\n",
    "\n",
    "\n",
    "\n",
    "x = UpSampling2D((2, 2))(x)\n",
    "x = BatchNormalization()(x)\n",
    "x = Conv2D(160, (2, 2), padding='same')(x)\n",
    "x = Dropout(0.2)(x)\n",
    "\n",
    "\n",
    "\n",
    "x = UpSampling2D((2, 2))(x)\n",
    "x = BatchNormalization()(x)\n",
    "x = Conv2D(80, (2, 2), padding='same')(x)\n",
    "x = Dropout(0.2)(x)\n",
    "\n",
    "\n",
    "\n",
    "x = UpSampling2D((2, 2))(x)\n",
    "x = BatchNormalization()(x)\n",
    "x = Conv2D(40, (2, 2), padding='same')(x)\n",
    "x = Dropout(0.2)(x)\n",
    "\n",
    "\n",
    "\n",
    "x = UpSampling2D((2, 2))(x)\n",
    "x = BatchNormalization()(x)\n",
    "x = Conv2D(20, (2, 2), padding='same')(x)\n",
    "x = Dropout(0.2)(x)\n",
    "\n",
    "\n",
    "\n",
    "x = UpSampling2D((2, 2))(x)\n",
    "x = BatchNormalization()(x)\n",
    "x = Conv2D(10, (2, 2), padding='same')(x)\n",
    "x = Dropout(0.2)(x)\n",
    "\n",
    "\n",
    "\n",
    "decoded = Conv2D(3, (2, 2), padding='same')(x)"
   ]
  },
  {
   "cell_type": "code",
   "execution_count": 201,
   "metadata": {
    "run_control": {
     "frozen": false,
     "read_only": false
    },
    "scrolled": true
   },
   "outputs": [
    {
     "name": "stdout",
     "output_type": "stream",
     "text": [
      "_________________________________________________________________\n",
      "Layer (type)                 Output Shape              Param #   \n",
      "=================================================================\n",
      "input_1 (InputLayer)         (None, 256, 256, 3)       0         \n",
      "_________________________________________________________________\n",
      "batch_normalization_1 (Batch (None, 256, 256, 3)       12        \n",
      "_________________________________________________________________\n",
      "conv2d_1 (Conv2D)            (None, 256, 256, 10)      490       \n",
      "_________________________________________________________________\n",
      "max_pooling2d_1 (MaxPooling2 (None, 128, 128, 10)      0         \n",
      "_________________________________________________________________\n",
      "dropout_1 (Dropout)          (None, 128, 128, 10)      0         \n",
      "_________________________________________________________________\n",
      "batch_normalization_2 (Batch (None, 128, 128, 10)      40        \n",
      "_________________________________________________________________\n",
      "conv2d_2 (Conv2D)            (None, 128, 128, 20)      820       \n",
      "_________________________________________________________________\n",
      "max_pooling2d_2 (MaxPooling2 (None, 64, 64, 20)        0         \n",
      "_________________________________________________________________\n",
      "dropout_2 (Dropout)          (None, 64, 64, 20)        0         \n",
      "_________________________________________________________________\n",
      "batch_normalization_3 (Batch (None, 64, 64, 20)        80        \n",
      "_________________________________________________________________\n",
      "conv2d_3 (Conv2D)            (None, 64, 64, 40)        3240      \n",
      "_________________________________________________________________\n",
      "max_pooling2d_3 (MaxPooling2 (None, 32, 32, 40)        0         \n",
      "_________________________________________________________________\n",
      "dropout_3 (Dropout)          (None, 32, 32, 40)        0         \n",
      "_________________________________________________________________\n",
      "batch_normalization_4 (Batch (None, 32, 32, 40)        160       \n",
      "_________________________________________________________________\n",
      "conv2d_4 (Conv2D)            (None, 32, 32, 80)        12880     \n",
      "_________________________________________________________________\n",
      "max_pooling2d_4 (MaxPooling2 (None, 16, 16, 80)        0         \n",
      "_________________________________________________________________\n",
      "dropout_4 (Dropout)          (None, 16, 16, 80)        0         \n",
      "_________________________________________________________________\n",
      "batch_normalization_5 (Batch (None, 16, 16, 80)        320       \n",
      "_________________________________________________________________\n",
      "conv2d_5 (Conv2D)            (None, 16, 16, 160)       51360     \n",
      "_________________________________________________________________\n",
      "max_pooling2d_5 (MaxPooling2 (None, 8, 8, 160)         0         \n",
      "_________________________________________________________________\n",
      "dropout_5 (Dropout)          (None, 8, 8, 160)         0         \n",
      "_________________________________________________________________\n",
      "batch_normalization_6 (Batch (None, 8, 8, 160)         640       \n",
      "_________________________________________________________________\n",
      "conv2d_6 (Conv2D)            (None, 8, 8, 320)         205120    \n",
      "_________________________________________________________________\n",
      "max_pooling2d_6 (MaxPooling2 (None, 4, 4, 320)         0         \n",
      "_________________________________________________________________\n",
      "dropout_6 (Dropout)          (None, 4, 4, 320)         0         \n",
      "_________________________________________________________________\n",
      "batch_normalization_7 (Batch (None, 4, 4, 320)         1280      \n",
      "_________________________________________________________________\n",
      "conv2d_7 (Conv2D)            (None, 4, 4, 640)         819840    \n",
      "_________________________________________________________________\n",
      "max_pooling2d_7 (MaxPooling2 (None, 2, 2, 640)         0         \n",
      "_________________________________________________________________\n",
      "dropout_7 (Dropout)          (None, 2, 2, 640)         0         \n",
      "_________________________________________________________________\n",
      "batch_normalization_8 (Batch (None, 2, 2, 640)         2560      \n",
      "_________________________________________________________________\n",
      "conv2d_8 (Conv2D)            (None, 2, 2, 1280)        3278080   \n",
      "_________________________________________________________________\n",
      "max_pooling2d_8 (MaxPooling2 (None, 1, 1, 1280)        0         \n",
      "_________________________________________________________________\n",
      "dropout_8 (Dropout)          (None, 1, 1, 1280)        0         \n",
      "_________________________________________________________________\n",
      "dense_1 (Dense)              (None, 1, 1, 1500)        1921500   \n",
      "_________________________________________________________________\n",
      "Encoder-dense (Dropout)      (None, 1, 1, 1500)        0         \n",
      "_________________________________________________________________\n",
      "Decoder-dense (Dense)        (None, 1, 1, 1500)        2251500   \n",
      "_________________________________________________________________\n",
      "dropout_9 (Dropout)          (None, 1, 1, 1500)        0         \n",
      "_________________________________________________________________\n",
      "up_sampling2d_1 (UpSampling2 (None, 2, 2, 1500)        0         \n",
      "_________________________________________________________________\n",
      "batch_normalization_9 (Batch (None, 2, 2, 1500)        6000      \n",
      "_________________________________________________________________\n",
      "conv2d_9 (Conv2D)            (None, 2, 2, 1280)        7681280   \n",
      "_________________________________________________________________\n",
      "dropout_10 (Dropout)         (None, 2, 2, 1280)        0         \n",
      "_________________________________________________________________\n",
      "up_sampling2d_2 (UpSampling2 (None, 4, 4, 1280)        0         \n",
      "_________________________________________________________________\n",
      "batch_normalization_10 (Batc (None, 4, 4, 1280)        5120      \n",
      "_________________________________________________________________\n",
      "conv2d_10 (Conv2D)           (None, 4, 4, 640)         3277440   \n",
      "_________________________________________________________________\n",
      "dropout_11 (Dropout)         (None, 4, 4, 640)         0         \n",
      "_________________________________________________________________\n",
      "up_sampling2d_3 (UpSampling2 (None, 8, 8, 640)         0         \n",
      "_________________________________________________________________\n",
      "batch_normalization_11 (Batc (None, 8, 8, 640)         2560      \n",
      "_________________________________________________________________\n",
      "conv2d_11 (Conv2D)           (None, 8, 8, 320)         819520    \n",
      "_________________________________________________________________\n",
      "dropout_12 (Dropout)         (None, 8, 8, 320)         0         \n",
      "_________________________________________________________________\n",
      "up_sampling2d_4 (UpSampling2 (None, 16, 16, 320)       0         \n",
      "_________________________________________________________________\n",
      "batch_normalization_12 (Batc (None, 16, 16, 320)       1280      \n",
      "_________________________________________________________________\n",
      "conv2d_12 (Conv2D)           (None, 16, 16, 160)       204960    \n",
      "_________________________________________________________________\n",
      "dropout_13 (Dropout)         (None, 16, 16, 160)       0         \n",
      "_________________________________________________________________\n",
      "up_sampling2d_5 (UpSampling2 (None, 32, 32, 160)       0         \n",
      "_________________________________________________________________\n",
      "batch_normalization_13 (Batc (None, 32, 32, 160)       640       \n",
      "_________________________________________________________________\n",
      "conv2d_13 (Conv2D)           (None, 32, 32, 80)        51280     \n",
      "_________________________________________________________________\n",
      "dropout_14 (Dropout)         (None, 32, 32, 80)        0         \n",
      "_________________________________________________________________\n",
      "up_sampling2d_6 (UpSampling2 (None, 64, 64, 80)        0         \n",
      "_________________________________________________________________\n",
      "batch_normalization_14 (Batc (None, 64, 64, 80)        320       \n",
      "_________________________________________________________________\n",
      "conv2d_14 (Conv2D)           (None, 64, 64, 40)        12840     \n",
      "_________________________________________________________________\n",
      "dropout_15 (Dropout)         (None, 64, 64, 40)        0         \n",
      "_________________________________________________________________\n",
      "up_sampling2d_7 (UpSampling2 (None, 128, 128, 40)      0         \n",
      "_________________________________________________________________\n",
      "batch_normalization_15 (Batc (None, 128, 128, 40)      160       \n",
      "_________________________________________________________________\n",
      "conv2d_15 (Conv2D)           (None, 128, 128, 20)      3220      \n",
      "_________________________________________________________________\n",
      "dropout_16 (Dropout)         (None, 128, 128, 20)      0         \n",
      "_________________________________________________________________\n",
      "up_sampling2d_8 (UpSampling2 (None, 256, 256, 20)      0         \n",
      "_________________________________________________________________\n",
      "batch_normalization_16 (Batc (None, 256, 256, 20)      80        \n",
      "_________________________________________________________________\n",
      "conv2d_16 (Conv2D)           (None, 256, 256, 10)      810       \n",
      "_________________________________________________________________\n",
      "dropout_17 (Dropout)         (None, 256, 256, 10)      0         \n",
      "_________________________________________________________________\n",
      "conv2d_17 (Conv2D)           (None, 256, 256, 3)       123       \n",
      "=================================================================\n",
      "Total params: 20,617,555\n",
      "Trainable params: 20,606,929\n",
      "Non-trainable params: 10,626\n",
      "_________________________________________________________________\n"
     ]
    }
   ],
   "source": [
    "model = Model(input_img, decoded)\n",
    "\n",
    "model.summary()"
   ]
  },
  {
   "cell_type": "markdown",
   "metadata": {
    "run_control": {
     "frozen": false,
     "read_only": false
    }
   },
   "source": [
    "##### Model checkpoints"
   ]
  },
  {
   "cell_type": "code",
   "execution_count": 202,
   "metadata": {
    "collapsed": true,
    "run_control": {
     "frozen": false,
     "read_only": false
    }
   },
   "outputs": [],
   "source": [
    "from keras.callbacks import TensorBoard, ModelCheckpoint, ReduceLROnPlateau\n",
    "from keras.callbacks import EarlyStopping, LearningRateScheduler\n",
    "from keras_tqdm import TQDMNotebookCallback\n",
    "\n",
    "tb = TensorBoard(\n",
    "        log_dir='../tensorboard/'+run+'/',\n",
    "        write_graph=True,\n",
    "        write_images=True\n",
    "    )\n",
    "\n",
    "mc = ModelCheckpoint(filepath = '../05.model/'+run+'.h5',\n",
    "                     save_best_only = True)\n",
    "\n",
    "ec = EarlyStopping(patience=5,\n",
    "                   mode='auto')\n",
    "\n",
    "reduce_lr = ReduceLROnPlateau(factor=0.1,\n",
    "                              patience=3,\n",
    "                              min_lr=0.000000000001)\n",
    "\n",
    "tqnc = TQDMNotebookCallback()"
   ]
  },
  {
   "cell_type": "code",
   "execution_count": 206,
   "metadata": {
    "collapsed": true,
    "run_control": {
     "frozen": false,
     "read_only": false
    }
   },
   "outputs": [],
   "source": [
    "batch_size = 50\n",
    "\n",
    "train_steps = 2*np.int(train_x.shape[0]/batch_size)\n",
    "validation_steps = np.int(0.1 * train_steps)"
   ]
  },
  {
   "cell_type": "code",
   "execution_count": null,
   "metadata": {
    "collapsed": true,
    "run_control": {
     "frozen": false,
     "read_only": false
    }
   },
   "outputs": [],
   "source": [
    "with tf.device(gpu):\n",
    "\n",
    "    model.compile(loss='mse',\n",
    "                  optimizer=keras.optimizers.sgd(lr=1e-2)\n",
    "                 )\n",
    "    \n",
    "    loss_history = model.fit(x=train_x,\n",
    "                             y=train_x,\n",
    "                             batch_size=batch_size,\n",
    "                             validation_split=0.1,\n",
    "                             callbacks=[tb,mc,ec,reduce_lr,tqnc],\n",
    "                             epochs=epochs,\n",
    "                             verbose=0\n",
    "                            )\n",
    "\n",
    "\n",
    "loss_df = pd.DataFrame(loss_history.history)\n",
    "loss_df.to_csv('../03.plots/losses/augmented_loss_df'+run+'.csv',\n",
    "                   index=False)"
   ]
  },
  {
   "cell_type": "code",
   "execution_count": null,
   "metadata": {
    "collapsed": true,
    "run_control": {
     "frozen": false,
     "read_only": false
    }
   },
   "outputs": [],
   "source": [
    "from keras.preprocessing.image import ImageDataGenerator\n",
    "\n",
    "\n",
    "train_datagen = ImageDataGenerator(\n",
    "                                rotation_range=180,\n",
    "                                vertical_flip=True,\n",
    "                                horizontal_flip=True,\n",
    "                                data_format='channels_last',\n",
    "                                \n",
    ")\n",
    "\n",
    "validation_datagen = ImageDataGenerator(\n",
    "                                data_format='channels_last'\n",
    ")\n",
    "\n",
    "train_generator = train_datagen.flow(\n",
    "                                    x=train_x,\n",
    "                                    y=train_x,\n",
    "                                    batch_size=batch_size\n",
    ")\n",
    "\n",
    "validation_generator = validation_datagen.flow(\n",
    "                                            x=train_x,\n",
    "                                            y=train_x,\n",
    "                                            batch_size=batch_size\n",
    ")"
   ]
  },
  {
   "cell_type": "markdown",
   "metadata": {
    "collapsed": true,
    "run_control": {
     "frozen": false,
     "read_only": false
    }
   },
   "source": [
    "with tf.device(gpu):\n",
    "    \n",
    "    \n",
    "    model.compile(optimizer=keras.optimizers.adam(lr=1e-3),\n",
    "                  loss='mse')\n",
    "\n",
    "    loss_history = model.fit_generator(\n",
    "                                    generator=train_generator,\n",
    "                                    validation_data=validation_generator,\n",
    "                                    epochs=5,\n",
    "                                    steps_per_epoch=train_steps,\n",
    "                                    validation_steps=validation_steps,\n",
    "                                    callbacks=[tb,mc,ec,reduce_lr],\n",
    "                                    verbose=1\n",
    "                )\n",
    "\n",
    "\n",
    "loss_df = pd.DataFrame(loss_history.history)\n",
    "loss_df.to_csv('../03.plots/losses/augmented_loss_df'+run+'.csv',\n",
    "                   index=False)"
   ]
  },
  {
   "cell_type": "markdown",
   "metadata": {
    "run_control": {
     "frozen": false,
     "read_only": false
    }
   },
   "source": [
    "#### Plot loss"
   ]
  },
  {
   "cell_type": "code",
   "execution_count": 95,
   "metadata": {
    "run_control": {
     "frozen": false,
     "read_only": false
    }
   },
   "outputs": [
    {
     "data": {
      "image/png": "[encoded data removed]",
      "text/plain": [
       "<matplotlib.figure.Figure at 0x2af2eed10b50>"
      ]
     },
     "metadata": {},
     "output_type": "display_data"
    }
   ],
   "source": [
    "data_plot = loss_df.ix[:,:]\n",
    "sns.set(style='whitegrid',)\n",
    "sns.plt.figure(figsize=(7.5,3.5))\n",
    "\n",
    "data_plot.loss.plot(label='train',lw=0.75)\n",
    "data_plot.val_loss.plot(label='validation',lw=0.75)\n",
    "data_plot.lr.plot(label='learning rate',secondary_y=True,lw=0.75)\n",
    "plt.legend()\n",
    "plt.title('Train & Validation loss');"
   ]
  },
  {
   "cell_type": "code",
   "execution_count": 196,
   "metadata": {
    "run_control": {
     "frozen": false,
     "read_only": false
    }
   },
   "outputs": [
    {
     "ename": "TypeError",
     "evalue": "Cannot interpret feed_dict key as Tensor: Tensor Tensor(\"input_1:0\", shape=(?, 256, 256, 3), dtype=float32) is not an element of this graph.",
     "output_type": "error",
     "traceback": [
      "\u001b[1;31m\u001b[0m",
      "\u001b[1;31mTypeError\u001b[0mTraceback (most recent call last)",
      "\u001b[1;32m<ipython-input-196-815b77af9716>\u001b[0m in \u001b[0;36m<module>\u001b[1;34m()\u001b[0m\n\u001b[0;32m      2\u001b[0m \u001b[0msamples\u001b[0m \u001b[1;33m=\u001b[0m \u001b[0mnp\u001b[0m\u001b[1;33m.\u001b[0m\u001b[0mrandom\u001b[0m\u001b[1;33m.\u001b[0m\u001b[0mrandint\u001b[0m\u001b[1;33m(\u001b[0m\u001b[1;36m0\u001b[0m\u001b[1;33m,\u001b[0m\u001b[1;36m25000\u001b[0m\u001b[1;33m,\u001b[0m\u001b[1;36m10\u001b[0m\u001b[1;33m)\u001b[0m\u001b[1;33m\u001b[0m\u001b[0m\n\u001b[0;32m      3\u001b[0m \u001b[0moriginal\u001b[0m \u001b[1;33m=\u001b[0m \u001b[0mtrain_x\u001b[0m\u001b[1;33m[\u001b[0m\u001b[0msamples\u001b[0m\u001b[1;33m]\u001b[0m\u001b[1;33m\u001b[0m\u001b[0m\n\u001b[1;32m----> 4\u001b[1;33m \u001b[0mpredicted\u001b[0m  \u001b[1;33m=\u001b[0m \u001b[0mmodel\u001b[0m\u001b[1;33m.\u001b[0m\u001b[0mpredict\u001b[0m\u001b[1;33m(\u001b[0m\u001b[0moriginal\u001b[0m\u001b[1;33m)\u001b[0m\u001b[1;33m\u001b[0m\u001b[0m\n\u001b[0m\u001b[0;32m      5\u001b[0m \u001b[0mpredicted\u001b[0m \u001b[1;33m=\u001b[0m \u001b[0mpredicted\u001b[0m\u001b[1;33m.\u001b[0m\u001b[0mastype\u001b[0m\u001b[1;33m(\u001b[0m\u001b[0mnp\u001b[0m\u001b[1;33m.\u001b[0m\u001b[0muint8\u001b[0m\u001b[1;33m)\u001b[0m\u001b[1;33m\u001b[0m\u001b[0m\n\u001b[0;32m      6\u001b[0m \u001b[1;33m\u001b[0m\u001b[0m\n",
      "\u001b[1;32m/software/intel/2017/intelpython27/lib/python2.7/site-packages/keras/engine/training.pyc\u001b[0m in \u001b[0;36mpredict\u001b[1;34m(self, x, batch_size, verbose)\u001b[0m\n\u001b[0;32m   1571\u001b[0m         \u001b[0mf\u001b[0m \u001b[1;33m=\u001b[0m \u001b[0mself\u001b[0m\u001b[1;33m.\u001b[0m\u001b[0mpredict_function\u001b[0m\u001b[1;33m\u001b[0m\u001b[0m\n\u001b[0;32m   1572\u001b[0m         return self._predict_loop(f, ins,\n\u001b[1;32m-> 1573\u001b[1;33m                                   batch_size=batch_size, verbose=verbose)\n\u001b[0m\u001b[0;32m   1574\u001b[0m \u001b[1;33m\u001b[0m\u001b[0m\n\u001b[0;32m   1575\u001b[0m     def train_on_batch(self, x, y,\n",
      "\u001b[1;32m/software/intel/2017/intelpython27/lib/python2.7/site-packages/keras/engine/training.pyc\u001b[0m in \u001b[0;36m_predict_loop\u001b[1;34m(self, f, ins, batch_size, verbose)\u001b[0m\n\u001b[0;32m   1201\u001b[0m                 \u001b[0mins_batch\u001b[0m \u001b[1;33m=\u001b[0m \u001b[0m_slice_arrays\u001b[0m\u001b[1;33m(\u001b[0m\u001b[0mins\u001b[0m\u001b[1;33m,\u001b[0m \u001b[0mbatch_ids\u001b[0m\u001b[1;33m)\u001b[0m\u001b[1;33m\u001b[0m\u001b[0m\n\u001b[0;32m   1202\u001b[0m \u001b[1;33m\u001b[0m\u001b[0m\n\u001b[1;32m-> 1203\u001b[1;33m             \u001b[0mbatch_outs\u001b[0m \u001b[1;33m=\u001b[0m \u001b[0mf\u001b[0m\u001b[1;33m(\u001b[0m\u001b[0mins_batch\u001b[0m\u001b[1;33m)\u001b[0m\u001b[1;33m\u001b[0m\u001b[0m\n\u001b[0m\u001b[0;32m   1204\u001b[0m             \u001b[1;32mif\u001b[0m \u001b[1;32mnot\u001b[0m \u001b[0misinstance\u001b[0m\u001b[1;33m(\u001b[0m\u001b[0mbatch_outs\u001b[0m\u001b[1;33m,\u001b[0m \u001b[0mlist\u001b[0m\u001b[1;33m)\u001b[0m\u001b[1;33m:\u001b[0m\u001b[1;33m\u001b[0m\u001b[0m\n\u001b[0;32m   1205\u001b[0m                 \u001b[0mbatch_outs\u001b[0m \u001b[1;33m=\u001b[0m \u001b[1;33m[\u001b[0m\u001b[0mbatch_outs\u001b[0m\u001b[1;33m]\u001b[0m\u001b[1;33m\u001b[0m\u001b[0m\n",
      "\u001b[1;32m/software/intel/2017/intelpython27/lib/python2.7/site-packages/keras/backend/tensorflow_backend.pyc\u001b[0m in \u001b[0;36m__call__\u001b[1;34m(self, inputs)\u001b[0m\n\u001b[0;32m   2101\u001b[0m         \u001b[0msession\u001b[0m \u001b[1;33m=\u001b[0m \u001b[0mget_session\u001b[0m\u001b[1;33m(\u001b[0m\u001b[1;33m)\u001b[0m\u001b[1;33m\u001b[0m\u001b[0m\n\u001b[0;32m   2102\u001b[0m         updated = session.run(self.outputs + [self.updates_op],\n\u001b[1;32m-> 2103\u001b[1;33m                               feed_dict=feed_dict)\n\u001b[0m\u001b[0;32m   2104\u001b[0m         \u001b[1;32mreturn\u001b[0m \u001b[0mupdated\u001b[0m\u001b[1;33m[\u001b[0m\u001b[1;33m:\u001b[0m\u001b[0mlen\u001b[0m\u001b[1;33m(\u001b[0m\u001b[0mself\u001b[0m\u001b[1;33m.\u001b[0m\u001b[0moutputs\u001b[0m\u001b[1;33m)\u001b[0m\u001b[1;33m]\u001b[0m\u001b[1;33m\u001b[0m\u001b[0m\n\u001b[0;32m   2105\u001b[0m \u001b[1;33m\u001b[0m\u001b[0m\n",
      "\u001b[1;32m/software/intel/2017/intelpython27/lib/python2.7/site-packages/tensorflow/python/client/session.pyc\u001b[0m in \u001b[0;36mrun\u001b[1;34m(self, fetches, feed_dict, options, run_metadata)\u001b[0m\n\u001b[0;32m    765\u001b[0m     \u001b[1;32mtry\u001b[0m\u001b[1;33m:\u001b[0m\u001b[1;33m\u001b[0m\u001b[0m\n\u001b[0;32m    766\u001b[0m       result = self._run(None, fetches, feed_dict, options_ptr,\n\u001b[1;32m--> 767\u001b[1;33m                          run_metadata_ptr)\n\u001b[0m\u001b[0;32m    768\u001b[0m       \u001b[1;32mif\u001b[0m \u001b[0mrun_metadata\u001b[0m\u001b[1;33m:\u001b[0m\u001b[1;33m\u001b[0m\u001b[0m\n\u001b[0;32m    769\u001b[0m         \u001b[0mproto_data\u001b[0m \u001b[1;33m=\u001b[0m \u001b[0mtf_session\u001b[0m\u001b[1;33m.\u001b[0m\u001b[0mTF_GetBuffer\u001b[0m\u001b[1;33m(\u001b[0m\u001b[0mrun_metadata_ptr\u001b[0m\u001b[1;33m)\u001b[0m\u001b[1;33m\u001b[0m\u001b[0m\n",
      "\u001b[1;32m/software/intel/2017/intelpython27/lib/python2.7/site-packages/tensorflow/python/client/session.pyc\u001b[0m in \u001b[0;36m_run\u001b[1;34m(self, handle, fetches, feed_dict, options, run_metadata)\u001b[0m\n\u001b[0;32m    920\u001b[0m           \u001b[1;32mexcept\u001b[0m \u001b[0mException\u001b[0m \u001b[1;32mas\u001b[0m \u001b[0me\u001b[0m\u001b[1;33m:\u001b[0m\u001b[1;33m\u001b[0m\u001b[0m\n\u001b[0;32m    921\u001b[0m             raise TypeError('Cannot interpret feed_dict key as Tensor: '\n\u001b[1;32m--> 922\u001b[1;33m                             + e.args[0])\n\u001b[0m\u001b[0;32m    923\u001b[0m \u001b[1;33m\u001b[0m\u001b[0m\n\u001b[0;32m    924\u001b[0m           \u001b[1;32mif\u001b[0m \u001b[0misinstance\u001b[0m\u001b[1;33m(\u001b[0m\u001b[0msubfeed_val\u001b[0m\u001b[1;33m,\u001b[0m \u001b[0mops\u001b[0m\u001b[1;33m.\u001b[0m\u001b[0mTensor\u001b[0m\u001b[1;33m)\u001b[0m\u001b[1;33m:\u001b[0m\u001b[1;33m\u001b[0m\u001b[0m\n",
      "\u001b[1;31mTypeError\u001b[0m: Cannot interpret feed_dict key as Tensor: Tensor Tensor(\"input_1:0\", shape=(?, 256, 256, 3), dtype=float32) is not an element of this graph."
     ]
    }
   ],
   "source": [
    "np.random.seed(42)\n",
    "samples = np.random.randint(0,25000,10)\n",
    "original = train_x[samples]\n",
    "predicted  = model.predict(original)\n",
    "predicted = predicted.astype(np.uint8)\n",
    "\n",
    "plt.figure(figsize=(10,5))\n",
    "\n",
    "for column in range(1,6,1):\n",
    "    \n",
    "    image = original[column]\n",
    "    image_predicted = predicted[column]\n",
    "    \n",
    "    plt.subplot(2,5,column)\n",
    "    plt.imshow(image)\n",
    "    plt.axis('off')\n",
    "        \n",
    "    plt.subplot(2,5,5+column)\n",
    "    plt.imshow(image_predicted)\n",
    "    plt.axis('off')\n",
    "    \n",
    "#plt.savefig('predictions_'+run+'.jpg',dpi=250)"
   ]
  }
 ],
 "metadata": {
  "kernelspec": {
   "display_name": "Python2 (tensorflow)",
   "language": "python",
   "name": "tensorflow"
  },
  "language_info": {
   "codemirror_mode": {
    "name": "ipython",
    "version": 2
   },
   "file_extension": ".py",
   "mimetype": "text/x-python",
   "name": "python",
   "nbconvert_exporter": "python",
   "pygments_lexer": "ipython2",
   "version": "2.7.12"
  }
 },
 "nbformat": 4,
 "nbformat_minor": 2
}
